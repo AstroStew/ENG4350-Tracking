{
  "nbformat": 4,
  "nbformat_minor": 0,
  "metadata": {
    "kernelspec": {
      "display_name": "Python 3",
      "language": "python",
      "name": "python3"
    },
    "language_info": {
      "codemirror_mode": {
        "name": "ipython",
        "version": 3
      },
      "file_extension": ".py",
      "mimetype": "text/x-python",
      "name": "python",
      "nbconvert_exporter": "python",
      "pygments_lexer": "ipython3",
      "version": "3.7.6"
    },
    "colab": {
      "name": "MainCallNotebook.ipynb",
      "provenance": [],
      "collapsed_sections": []
    }
  },
  "cells": [
    {
      "cell_type": "markdown",
      "metadata": {
        "id": "jBfLX1J_mEFY"
      },
      "source": [
        " ## Import Sections\n"
      ]
    },
    {
      "cell_type": "markdown",
      "metadata": {
        "id": "RM4y5VqwmeAq"
      },
      "source": [
        "#####**Purpose**\n",
        "\n"
      ]
    },
    {
      "cell_type": "markdown",
      "metadata": {
        "id": "jr8jgIYnmtGu"
      },
      "source": [
        "The Purpose of this lab is to combine and  refine the high level program created in P3 as well as create a Status Report of the Progress. This lab focuses on constructing the AOS/LOS table, comparison of correct test values and code values and to provide a summary of the progress completed. "
      ]
    },
    {
      "cell_type": "markdown",
      "metadata": {
        "id": "Hpe7m7wHmxV0"
      },
      "source": [
        "####**Procedure** \n"
      ]
    },
    {
      "cell_type": "markdown",
      "metadata": {
        "id": "RMbfV7X-m3g1"
      },
      "source": [
        "The Lab was completed by Abdul and Mike together with Mike focusing on the Pointing and Visibility Functions and Abdul focusing on the Link Calculations and Debugging. \n",
        "The Theory behind the lab process was to construct a working code using the functions developed over the past several weeks. The code must output similar values to the correct ones.This lab focused on implementing the AOS/LOS table and selecting a satellite to output the pointing information.\n",
        "\n",
        "The Steps Conducted in this lab include:\n",
        "- Discuss issues with P3 code and how to implement P4 code\n",
        "- Coding\n",
        "- New Code\n",
        "- Debugging \n",
        "- Report Making\n",
        "\n",
        "\n",
        "\n"
      ]
    },
    {
      "cell_type": "markdown",
      "metadata": {
        "id": "HMjGK9JBz1W5"
      },
      "source": [
        "**Coding**\n",
        "\n",
        "After we had discussed briefly what we needed for this Lab we started Coding. Coding was loosely divided into two sections:\n",
        "\n"
      ]
    },
    {
      "cell_type": "markdown",
      "metadata": {
        "id": "_B2kvSvL3ipY"
      },
      "source": [
        "*Creating New Code*\n",
        "\n",
        "Coding of the Visibility Block of the Programming Structure started by asking the question “what is the most efficient way to produce the AOS/LOS?”. The answer to this was through the Pointing function since it already had the for loops and if statements to find availability. The only thing left to do was to compare the availability of the Satellite to its previous value, which surprisingly turned out to be more difficult than we thought (more on this in Results/Discussion). The next step was to format the code correctly. Here a Visibility() function was created to turn the AOS/LOS variables collected in the Pointing() function and turned them into a list also containing the Signal Loss variables.\n",
        "\n",
        "The Signal Loss variables come from the Tracking Data. The Tracking Data(so far) is formed from the Link Calculations and the Range of the Topocentric System and only contains Signal Loss-- more variables will be calculated later.. A function called linkcal takes in the LinkInputs.txt file and creates variables of frequency, Antenna Diameter and Antenna Efficiency. A created function called Tracking_Data() takes in the linkcal variables and R_ti and produces a signal loss for each Satellite at each time period.\n",
        "\n",
        "The Pointing() and Visibility() functions take in this Signal_loss parameter so that it can be easily displayed in the AOS/LOS Table.\n",
        "\n",
        "The Signal Loss Equation used was the Ls variable in Figure 2 in the Results Section of this lab. \n"
      ]
    },
    {
      "cell_type": "markdown",
      "metadata": {
        "id": "KNCNV16I3rdP"
      },
      "source": [
        "*Debugging*\n",
        "\n",
        "After the new functions were added, the code underwent many debugging exercises, but still suffers from inaccurate calculations. Bugs were first fixed when the problem was evident: this meant that an error occurred during the codes operation. As of now, the code runs but doesn’t output the right answer. We are currently looking at the Kepler Equation, and Mean Anomaly functions to see why they give faulty results. \n"
      ]
    },
    {
      "cell_type": "code",
      "metadata": {
        "id": "m7pK1oiwmEFa"
      },
      "source": [
        "import datetime as dt\n",
        "import numpy as np\n",
        "import math\n",
        "from scipy.spatial.transform import Rotation as R"
      ],
      "execution_count": null,
      "outputs": []
    },
    {
      "cell_type": "markdown",
      "metadata": {
        "id": "lV7gvoQTnMbD"
      },
      "source": [
        "#### **New Subroutines**\n"
      ]
    },
    {
      "cell_type": "markdown",
      "metadata": {
        "id": "bmFz9gqmnQRr"
      },
      "source": [
        "**def refepoch_to_dt(referepoch)**\n",
        "\n",
        "This function was created to easily convert TLE epoch time format to a datetime object. A datetime object was used to easily translate between times. \n"
      ]
    },
    {
      "cell_type": "code",
      "metadata": {
        "id": "nahahM0HmEFm"
      },
      "source": [
        "def refepoch_to_dt(refepoch):\n",
        "    Epochyrday = dt.datetime.strptime((refepoch[0:5]),'%y%j')\n",
        "    dfrac = np.modf(np.float(refepoch))[0]\n",
        "    dfracdt = dt.timedelta(microseconds=np.int(dfrac*24*3600*10**6))\n",
        "    Epochdt = Epochyrday + dfracdt\n",
        "    return Epochdt"
      ],
      "execution_count": null,
      "outputs": []
    },
    {
      "cell_type": "markdown",
      "metadata": {
        "id": "ekneGJS-ncO0"
      },
      "source": [
        "**doy(YR,MO,D)**\n",
        "\n",
        "This function was created to easily convert year, month and day to the day of the year. It is an edited version of P1’s lab\n",
        "\n",
        "referenceepoch_propagate(Tracking_Data_Instance)\n"
      ]
    },
    {
      "cell_type": "code",
      "metadata": {
        "id": "qfJuNY6NmEFr"
      },
      "source": [
        "def doy(YR,MO,D):\n",
        "    if len(str(MO))==1:\n",
        "        MO='0'+ str(MO)\n",
        "    if len(str(D))==1:\n",
        "        D='0'+ str(D)\n",
        "    String=str(YR)+str(MO)+str(D)\n",
        "    Time = dt.datetime.strptime(String,'%Y%m%d')\n",
        "    #Converts First to dt\n",
        "    DOY=dt.datetime.strftime(Time,'%j')\n",
        "    #Converts from dt to day of the year\n",
        "    return DOY\n",
        "    "
      ],
      "execution_count": null,
      "outputs": []
    },
    {
      "cell_type": "markdown",
      "metadata": {
        "id": "KUDvcBv4nleF"
      },
      "source": [
        "**referenceepoch_propagate(Tracking_Data_Instance)**\n",
        "\n",
        "After reviewing the code of THETAN with Professor Chesser, the refernpoch_propagte function was created. This function creates an array of TLE formatted times to plug into the function THETAN.\n",
        "\n"
      ]
    },
    {
      "cell_type": "code",
      "metadata": {
        "id": "7Yr6ZBdCmEFu"
      },
      "source": [
        "def referenceepoch_propagate(TrackingData):\n",
        "    starttime=dt.datetime.strptime(TrackingData.starttime,'%Y-%m-%d-%H:%M:%S')\n",
        "    endtime=dt.datetime.strptime(TrackingData.endtime,'%Y-%m-%d-%H:%M:%S')\n",
        "    Iterations=(endtime-starttime).total_seconds()/float(TrackingData.timestep)\n",
        "    refepoch_list=[]\n",
        "    time=starttime\n",
        "    print(Iterations)\n",
        "    for i in range(0,int(Iterations)):\n",
        "        yearstring=str(time.year)[2:4]\n",
        "        doystring=str(doy(time.year,time.month,time.day))\n",
        "        dayfracstring=str((time.microsecond/8.6e+10)+(time.second/86400)+ \\\n",
        "                          (time.minute/1440)+(time.hour/24))[0:13]\n",
        "        time=time+dt.timedelta(seconds=float(TrackingData.timestep))\n",
        "        if len(doy_nofrac)==3:\n",
        "            resultstring=yearstring+doystring\n",
        "        elif len(doy_nofrac)==2:\n",
        "            resultstring=yearstring+\"0\"+doystring\n",
        "        elif len(doy_nofrac)==1:\n",
        "            resultstring=yearstring+\"00\"+doystring\n",
        "            \n",
        "        \n",
        "            \n",
        "        \n",
        "        \n",
        "        \n",
        "        refepoch_list.append(resultstring)\n",
        "        \n",
        "        \n",
        "    return refepoch_list"
      ],
      "execution_count": null,
      "outputs": []
    },
    {
      "cell_type": "markdown",
      "metadata": {
        "id": "zIYBsPt1oIZW"
      },
      "source": [
        "#### **Updated Subroutines**\n",
        "THETAN(referepoch) \n",
        "\n",
        "The updated function now takes in the iterative times as referepoch TLE formats. The referpoch times are created from the tracking data and propagated into a list from referencepoch_propagate(Tracking_Data_Instance). The functions has also been edited to fix minor bugs (i.e. Time Bug)\n"
      ]
    },
    {
      "cell_type": "code",
      "metadata": {
        "id": "49xSLPiHmEF0"
      },
      "source": [
        "def THETAN(refepoch):\n",
        "    #Input is a refepoch array this dsoesn't make sense as Tracking Data contains an easily parsible \n",
        "    \n",
        "    \n",
        "    GMST_list=[]\n",
        "    \n",
        "    \n",
        "    J2000=dt.datetime.strptime('2000-01-01 12:00:00','%Y-%m-%d %H:%M:%S')\n",
        "    Starttime=dt.datetime.strptime(Tracking.starttime,'%Y-%m-%d-%H:%M:%S')\n",
        "    Midtime=Starttime.replace(hour=0,minute=0,second=0)\n",
        "    D_u=(Midtime-J2000).days+(Midtime-J2000).seconds/86400\n",
        "    T_u=D_u/36525\n",
        "    GMST_00=(99.9677947+36000.7700631*T_u+0.00038793*T_u**2-2.6e-8*T_u**3)%360\n",
        "\n",
        "    \n",
        "    \n",
        "\n",
        "    for i in range(0,len(refepoch)):\n",
        "        times=(refepoch_to_dt(refepoch[i]))\n",
        "        \n",
        "        #Creates T mid for Observation Day\n",
        "        #Notice how we replace hour,min and sec to 0. This makes the time midnight!\n",
        "        del_sec=(times-Midtime).total_seconds()\n",
        "        \n",
        "\n",
        "        D_u_2=(times-J2000).days+(times-J2000).seconds/86400\n",
        "\n",
        "        T_u_2=D_u_2/36525\n",
        "\n",
        "        r=1.002737909350795+5.9006e-11*(T_u_2-T_u)-5.9e-15*(T_u_2-T_u)**2\n",
        "        GMST_t=(GMST_00+360*r/86400*(del_sec))%360\n",
        "        \n",
        "        GMST_list.append(GMST_t)\n",
        "        \n",
        "    return GMST_list        \n"
      ],
      "execution_count": null,
      "outputs": []
    },
    {
      "cell_type": "markdown",
      "metadata": {
        "id": "NWbw8leXoem8"
      },
      "source": [
        "## Previously Described Functions (Please refer to lab P2/P3 lab report) "
      ]
    },
    {
      "cell_type": "code",
      "metadata": {
        "id": "UoJDg5ZvmEF2"
      },
      "source": [
        "def mean_anomaly_motion(time,ts_sat_epoch,M0_mean_anomaly,n_mean_motion, \\\n",
        "                        n_dot_mean_motion,n_2dots_mean_motion):\n",
        "    \n",
        "    #Assume Reference Epcoh is in TLE format\n",
        "    refepoch=ts_sat_epoch\n",
        "    Epochyrday = dt.datetime.strptime(refepoch[:4],'%y%j')\n",
        "    dfrac = np.modf(np.float(refepoch))[0]\n",
        "    dfracdt = dt.timedelta(microseconds=np.int(dfrac*24*3600*10**6))\n",
        "    Epochdt = Epochyrday + dfracdt\n",
        "    \n",
        "    #assume Time is datetime object\n",
        "    \n",
        "    t=(time-Epochdt).total_seconds()\n",
        "    \n",
        "    \n",
        "    \n",
        "    Mt_mean_anomaly=M0_mean_anomaly+ \\\n",
        "        n_mean_motion*(360*t/86400)+360*(n_dot_mean_motion)*(t/86400)**2+ \\\n",
        "        360*(n_2dots_mean_motion)*(t/86400)**3\n",
        "    Nt_mean_anomaly_motion=n_mean_motion* \\\n",
        "        (360*t/86400) + 2*360*(n_dot_mean_motion)*(t/86400**2)+ \\\n",
        "        3*360*(n_2dots_mean_motion)*(t**2/86400**3)\n",
        "\n",
        "    #Removing Mutlples\n",
        "    Mt_mean_anomaly=Mt_mean_anomaly%360\n",
        "    \n",
        "    return Mt_mean_anomaly,Nt_mean_anomaly_motion\n"
      ],
      "execution_count": null,
      "outputs": []
    },
    {
      "cell_type": "code",
      "metadata": {
        "id": "YfaWal0OmEF6"
      },
      "source": [
        "def KeplerEqn(Mt_mean_anomaly,eccentricity):\n",
        "    \n",
        "    #Examples Permitted Error\n",
        "    permitted_error=0.32\n",
        "    #Example Permitted Error\n",
        "    \n",
        "    \n",
        "    Mt_mean_anomaly=float(Mt_mean_anomaly)*math.pi/180\n",
        "    #Converts to Radians\n",
        "    \n",
        "    e=float(eccentricity)\n",
        "    #ensures that e is in the right format\n",
        "    \n",
        "    \n",
        "    \n",
        "    #Initialize lists\n",
        "    E_=[]\n",
        "    Del_M_=[]\n",
        "    Del_E_=[]\n",
        "    i=0\n",
        "    \n",
        "    #Calculates First Iteration\n",
        "    E_.append(float(Mt_mean_anomaly))\n",
        "    Del_M_.append(float(E_[i])-e*math.sin((E_[i]))-float(Mt_mean_anomaly))\n",
        "    Del_E_.append(Del_M_[i]/(1-e*math.cos(E_[i])))\n",
        "    Del_E_mag=abs(Del_E_[i])\n",
        "    E_.append(E_[i]+Del_E_[i])\n",
        "    \n",
        "    #Calculates Further Iterations\n",
        "    while Del_E_mag > permitted_error:\n",
        "        i=i+1\n",
        "        Del_M_.append(float(E_[i])-e*math.sin((E_[i]))-float(Mt_mean_anomaly))\n",
        "        Del_E_.append(Del_M_[i]/(1-e*math.cos(E_[i])))\n",
        "        Del_E_mag=abs(Del_E_[i])\n",
        "        (Del_E_mag)\n",
        "        E_.append(E_[i]+Del_E_[i])\n",
        "        \n",
        "       \n",
        "    return E_[i+1]%(2*math.pi) #reduces Eccentric Anom \n",
        "#! Returns in Radians"
      ],
      "execution_count": null,
      "outputs": []
    },
    {
      "cell_type": "code",
      "metadata": {
        "id": "l9osu3KrmEGD"
      },
      "source": [
        "def perifocal(eccentricity,ecc_anomaly,a_semi_major_axis,omega_longitude_ascending_node, \\\n",
        "              omega_argument_periapsis,inclination,nt_mean_motion):\n",
        "    \n",
        "    #Assuming Earth\n",
        "    mu=398600.4418 #km^3/s^2\n",
        "    \n",
        "    #Ensuring Orbital ELements are in right format\n",
        "    eccentricity=float(eccentricity) \n",
        "    ecc_anomaly=float(ecc_anomaly)\n",
        "    omega_longitude_ascending_node=float(omega_longitude_ascending_node)\n",
        "    omega_argument_periapsis=float(omega_argument_periapsis)\n",
        "    inclination=float(inclination)\n",
        "    nt_mean_motion=float(nt_mean_motion)\n",
        "    \n",
        "    #Calculating True Anomaly\n",
        "    true_anom=2*(math.atan(math.sqrt((1+eccentricity)/ \\\n",
        "                                     (1-eccentricity))*math.tan(ecc_anomaly)))\n",
        "    #Calculating R and its components\n",
        "    r=a_semi_major_axis*(1-eccentricity**2)/(1+eccentricity*math.cos(true_anom))\n",
        "    r_px=r*math.cos(true_anom)\n",
        "    r_py=r*math.sin(true_anom)\n",
        "    r_pz=0\n",
        "    R_per=[r_px,r_py,r_pz]\n",
        "    #Calculating Velocity Components\n",
        "        #Note: We could not differentiate r in python so we used a work around method\n",
        "        \n",
        "    semi_lactus_rectum=a_semi_major_axis*(1-eccentricity**2)\n",
        "    angular_mo=math.sqrt(mu*semi_lactus_rectum)\n",
        "    v_px=-mu*math.sin(true_anom)/angular_mo\n",
        "    v_py=mu*(eccentricity+math.cos(true_anom))/angular_mo\n",
        "    v_pz=0\n",
        "    v_per=[v_px,v_py,v_pz]\n",
        "    #km/s\n",
        "    print(\"Perifocal:\",R_per,v_per)\n",
        "    \n",
        "    return R_per,v_per"
      ],
      "execution_count": null,
      "outputs": []
    },
    {
      "cell_type": "code",
      "metadata": {
        "id": "2wgaj8rgmEGR"
      },
      "source": [
        "def sat_ECI(eccentricity,ecc_anomaly,a_semi_major_axis,omega_longitude_ascending_node,omega_argument_periapsis,inclination,nt_mean_motion):\n",
        "    #Perifocal to ECI\n",
        "    #Earth Centred Inertial Frame\n",
        "    \n",
        "    #Finds Perifocal Components\n",
        "    r_per,v_per=perifocal(eccentricity,ecc_anomaly,a_semi_major_axis,omega_longitude_ascending_node,omega_argument_periapsis,inclination,nt_mean_motion)\n",
        "    print(\"Position and Velocity in Perifocal\",r_per,v_per)\n",
        "    \n",
        "    #Creates transformation\n",
        "    Per_to_ECI=R.from_euler('ZXZ',[-float(omega_longitude_ascending_node),-float(inclination),-float(omega_argument_periapsis)],degrees=True)\n",
        "    #Note: RAAN,omega,inc in degrees\n",
        "    pos_ECI=(Per_to_ECI.apply(r_per)).tolist()\n",
        "    vel_ECI=(Per_to_ECI.apply(v_per)).tolist()\n",
        "    \n",
        "    print(\"Position in ECI\",pos_ECI)\n",
        "    \n",
        "    vel_ECI=(Per_to_ECI.apply(v_per)).tolist()\n",
        "    return pos_ECI,vel_ECI"
      ],
      "execution_count": null,
      "outputs": []
    },
    {
      "cell_type": "code",
      "metadata": {
        "id": "lxOemnqHmEGc"
      },
      "source": [
        "def sat_ECF(theta_t,eci_position,eci_velocity):\n",
        "    \n",
        "    print(\"This is the intake ECI Position\",eci_position)\n",
        "    #Creates rotational transformation\n",
        "    ECI_to_ECF=R.from_euler('Z',[float(theta_t)], degrees=True)\n",
        "    \n",
        "    #Applies Rotational Transformation\n",
        "    pos_ECF=ECI_to_ECF.apply(eci_position).tolist()[0] # had to perform weird \n",
        "    #weird conversion to get back to list\n",
        "    print(pos_ECF)\n",
        "    vel_ECF=ECI_to_ECF.apply(eci_velocity).tolist()[0]\n",
        "    #km/s\n",
        "    \n",
        "    print(\"This is the Position in ECI\",eci_position)\n",
        "    #Relative Velocity\n",
        "    Siderial_rotation=[1,1,360/86164.091] #Degrees/s\n",
        "    vel_rel=ECI_to_ECF.apply(eci_velocity-np.matmul(Siderial_rotation,eci_position))\n",
        "    #km/s\n",
        "    \n",
        "    \n",
        "    return pos_ECF,vel_ECF,vel_rel\n"
      ],
      "execution_count": null,
      "outputs": []
    },
    {
      "cell_type": "code",
      "metadata": {
        "id": "VdjlaC-SmEGm"
      },
      "source": [
        "def station_ECF(station_longitude,station_latitude,station_elevation):\n",
        "    #input as rads only\n",
        "    \n",
        "    f=1/298.25223563\n",
        "    R_e=6378.137 #km\n",
        "    #geodetic longitde must be in degs\n",
        "    #geodetic latitude must be in degs\n",
        "    #station elevation must be in km\n",
        "    phi=(float(station_latitude)*math.pi/180)\n",
        "    h=float(station_elevation)\n",
        "    lambda_=float(station_longitude)*math.pi/180\n",
        "    e=math.sqrt(2*f-f**2)\n",
        "    n_phi=R_e/(math.sqrt(1-(e**2)*(math.sin(phi))**2))\n",
        "    \n",
        "    \n",
        "    T_x=(n_phi+h)*math.cos(phi)*math.cos(lambda_)\n",
        "    T_y=(n_phi+h)*math.cos(phi)*math.sin(lambda_)\n",
        "    T_z=(((1-e**2)*n_phi+h)*math.sin(phi))\n",
        "    \n",
        "    #R_x=station_body_position[0]-T_x\n",
        "    #R_y=station_body_position[1]-T_y\n",
        "    #R_z=station_body_position[2]-T_z\n",
        "    \n",
        "    #where station_body_poisitonh is the sat_ECF coordinates\n",
        "    \n",
        "    return [T_x,T_y,T_z]\n",
        "    \n",
        "    \n",
        "  #Note: Professor said that we did not have to do the second station_EFC fucntion"
      ],
      "execution_count": null,
      "outputs": []
    },
    {
      "cell_type": "code",
      "metadata": {
        "id": "Y82ocTRmmEGz"
      },
      "source": [
        "def range_ECF2topo(station_body_position, \\\n",
        "                   sat_ecf_position,sat_ecf_velocity,station_longitude, \\\n",
        "                   station_latitude):\n",
        "    \n",
        "    station_longitude=float(station_longitude)*math.pi/180\n",
        "    station_latitude=float(station_latitude)*math.pi/180\n",
        "    #input as Rads only\n",
        "    \n",
        "    print(\"This is Station Body Positon\",station_body_position)\n",
        "    \n",
        "    #assuming that station body positon is [Tx,Ty,Tz]\n",
        "    \n",
        "    R=[sat_ecf_position[0]-station_body_position[0],\\\n",
        "       sat_ecf_position[1]-station_body_position[1],\\\n",
        "        sat_ecf_position[2]-station_body_position[2]]\n",
        "    print(\"This is R:  \",R)\n",
        "    \n",
        "    #Intializes Transformation Matrix\n",
        "    T_ECF_to_topo=[[-math.sin(station_longitude), \\\n",
        "                    math.cos(station_latitude),0], \\\n",
        "                   [math.cos(station_longitude)*math.sin(station_latitude), \\\n",
        "                    -math.sin(station_longitude)*math.sin(station_latitude), \\\n",
        "                    math.cos(station_latitude)],[math.cos(station_longitude) \\\n",
        "                                                 *math.cos(station_latitude), \\\n",
        "                                                 math.sin(station_longitude)* \\\n",
        "                                                 math.cos(station_latitude), \\\n",
        "                                                 math.sin(station_latitude)]]\n",
        "    print(\"This is Transformation: \",T_ECF_to_topo)\n",
        "    print(\"This is R_Transpose: \",(R))\n",
        "    #Transform Range Vector\n",
        "    R_ti=np.matmul(np.array(R),np.array(T_ECF_to_topo))\n",
        "    \n",
        "    # Assuming that sat_ecf Velocity is Relative\n",
        "    vel_rel=sat_ecf_velocity\n",
        "    \n",
        "    #Transform Velocity Vector\n",
        "    v_rel_ti=np.matmul(np.array(vel_rel),np.array(T_ECF_to_topo)).tolist()[0]\n",
        "    \n",
        "    return R_ti,v_rel_ti"
      ],
      "execution_count": null,
      "outputs": []
    },
    {
      "cell_type": "code",
      "metadata": {
        "id": "bm-41fpFmEHD"
      },
      "source": [
        "def range_topo2look_angle(range_topo_position,range_topo_velocity):\n",
        "    R=range_topo_position\n",
        "    print(\"REange Topo position\",range_topo_position[0])\n",
        "    v_rel=range_topo_velocity\n",
        "    print(\"This is Topo Range\",range_topo_position)\n",
        "    #Calculates the AZ and EL\n",
        "    AZ=math.atan(R[0]/R[1])\n",
        "    EL=math.atan(R[2]/(math.sqrt(R[0]**2+R[1]**2)))\n",
        "    \n",
        "    \n",
        "    r=np.linalg.norm(R) #scalar of R\n",
        "    \n",
        "    R_xy=[R[0],R[1]]\n",
        "    #In Software Specification Rxy is [tx ty]{Rtx;Rty} which would give a result of a singular value\n",
        "    #Here we assume the Professor meant R_xy= the x and y components of R\n",
        "    print(v_rel)\n",
        "    v_xy=[v_rel[0],v_rel[1]]\n",
        "    \n",
        "    #Calculates rates of AZ and EL\n",
        "    rate_of_AZ=np.cross(v_xy,R_xy)\n",
        "    rate_of_EL=(r*v_rel[2]-R[2]*np.dot(R_xy,v_xy)/r)/(r**2)\n",
        "    \n",
        "    return AZ,EL,rate_of_AZ,rate_of_EL"
      ],
      "execution_count": null,
      "outputs": []
    },
    {
      "cell_type": "code",
      "metadata": {
        "id": "BhaJUOoVmEHP"
      },
      "source": [
        "def SatListPropagate(SatFIL):\n",
        "    Satfile=open(SatFIL,'rt')\n",
        "    entries=(len(open(SatFIL).readlines()))/3\n",
        "    i=0\n",
        "    while i<entries:\n",
        "        line0=Satfile.readline()\n",
        "        line1=Satfile.readline()\n",
        "        line2=Satfile.readline()\n",
        "        try:\n",
        "            SatList.append(Satellite(line0,line1,line2))\n",
        "            print('Satellite has been registered as Satellite:',len(SatList),\"Array index: [\",len(SatList)-1,\"]\")\n",
        "        except:\n",
        "            SatList=[]\n",
        "            SatList.append(Satellite(line0,line1,line2))\n",
        "            print('SatList has been created')\n",
        "        i=i+1\n",
        "    return SatList"
      ],
      "execution_count": null,
      "outputs": []
    },
    {
      "cell_type": "markdown",
      "metadata": {
        "id": "sOsmCWNzmEHc"
      },
      "source": [
        "## Classes"
      ]
    },
    {
      "cell_type": "code",
      "metadata": {
        "id": "mI9zmDN_mEHd"
      },
      "source": [
        "class Station():\n",
        "    def __init__(self,STNFIL):\n",
        "        STNfile=open(STNFIL,'rt')\n",
        "        #opens file using directory extension\n",
        "        self.name=STNfile.readline()\n",
        "        self.stnlat=STNfile.readline()\n",
        "        self.stnlong=STNfile.readline()\n",
        "        self.stnalt=STNfile.readline()\n",
        "        self.utc_offset=STNfile.readline()\n",
        "        self.az_el_nlim=STNfile.readline()\n",
        "        self.az_el_lim=[]\n",
        "        Iteration=int(self.az_el_nlim)\n",
        "        i=0\n",
        "        while i<Iteration:\n",
        "            self.az_el_lim.append(STNfile.readline())\n",
        "            i=i+1\n",
        "            \n",
        "        #self.az_el_lim=STNfile.readline()\n",
        "        self.st_az_speed_max=STNfile.readline()\n",
        "        self.st_el_speed_max=STNfile.readline()\n",
        "        #reads the file line by line\n",
        "        \n",
        "        STNfile.close\n",
        "        #closes files\n"
      ],
      "execution_count": null,
      "outputs": []
    },
    {
      "cell_type": "code",
      "metadata": {
        "id": "LO1ja18ImEHv"
      },
      "source": [
        "class Satellite():\n",
        "    def __init__(self,line0,line1,line2):\n",
        "        self.name=line0\n",
        "        self.refepoch=line1[18:32]\n",
        "        self.incl=line2[8:16]\n",
        "        self.raan=line2[17:25]\n",
        "        self.eccn=\".\"+line2[26:33]\n",
        "        self.argper=line2[34:42]\n",
        "        self.meanan=line2[43:51]\n",
        "        self.meanmo=line2[52:63]\n",
        "        self.ndot=line1[33:43]\n",
        "        self.n2dot=line1[44:50]\n",
        "        self.bstar=line1[53:61]\n",
        "        self.orbitnum=line2[63:68]"
      ],
      "execution_count": null,
      "outputs": []
    },
    {
      "cell_type": "code",
      "metadata": {
        "id": "Bt8OxX6CmEH1"
      },
      "source": [
        "class tracking():\n",
        "    def __init__(self, TrackingData):\n",
        "        Trackingdatafile=open(TrackingData,'rt')\n",
        "        self.starttime=(Trackingdatafile.readline())[0:19]\n",
        "        self.endtime=(Trackingdatafile.readline())[0:19]\n",
        "        self.timestep=Trackingdatafile.readline()\n",
        "        #It is assumed that the step time is in seconds\n",
        "        Trackingdatafile.close   "
      ],
      "execution_count": null,
      "outputs": []
    },
    {
      "cell_type": "markdown",
      "metadata": {
        "id": "2dKEwVicqB0d"
      },
      "source": [
        "##**Pointing**\n"
      ]
    },
    {
      "cell_type": "markdown",
      "metadata": {
        "id": "V4F93vrCqNzF"
      },
      "source": [
        "During a revision of the Suggested Programming Structure it was noticed that it would be easier to find the AOS/LOS within the Pointing Function. This was decided since the Availability of the Azimuth and Elevation could be found and an Acquisition and Loss of Signal requires that parameter. So the Program uses the Pointing function to output AOS/LOS values used by the Visibility function. \n",
        "The Updated Pointing Subroutine continues to iterate through the Station Limits and check the availability of the satellite but now it compares the previous value for that specific satellite to see if it is available. If a Satellite signal is available when it wasn’t, then a signal is acquired.\n",
        "It has been noticed that after the Satellite iterates through one whole Azimuth and Elevation limit, some Acquisition and Loss of Signal points might be noted. This is because the code works in what I like to call “limit blocks”. Passing into a limit block will grant an acquisition of signal even if the Satellite was previously in another “limit block” the timestep earlier- this is unwanted. Due to the nature of the iterative limits, we have attached a special section of code that checks and sees if the Satellite, at its previous timestep had a Loss of Signal, due to leaving that “limit block”. If the Satellite has an Acquisition of Signal at the current timestep but a Loss of of Single at that same step in a different “limit block” than the Loss of Signal gets deleted from the entry system and an Acquisition of Signal gets prevented from being added. \n",
        "To fully understand this we devise a Block Limit Thought Experiment \n",
        "**Add image here**\n",
        "Let's imagine that we have an Object that Moves from Star to Circle through two different Limit Blocks. Our code, before it was fixed, would tell us that the Satellite has lost a Signal and simultaneously acquired a signal in the Circle Position, both in different Limit Blocks. The Limit Block 2 would lose a signal while Limit Block 3 would acquire a signal. The appended code in our Acquisition of Signal Section searches through the LOS list generated and sees if a Satellite with the same number and Time as our Acquisition Signal and deletes it’s entry from the LOS list.\n",
        "\n"
      ]
    },
    {
      "cell_type": "code",
      "metadata": {
        "id": "7_eNND7zmEH6"
      },
      "source": [
        "def Pointing(StnInstance,AZ_list,EL_list,time,Satnum_list):\n",
        "  \n",
        "  \n",
        "  #avail=available for viewing\n",
        "  AZ_avail=[]\n",
        "  EL_avail=[]\n",
        "  Times_avail=[]\n",
        "  Satnum_avail=[]\n",
        "  #creates blanks arrays to be filled\n",
        "  AZ_AOS=[]\n",
        "  EL_AOS=[]\n",
        "  Times_AOS=[]\n",
        "  SatNum_AOS=[]\n",
        "  AZ_LOS=[]\n",
        "  EL_LOS=[]\n",
        "  Times_LOS=[]\n",
        "  SatNum_LOS=[]\n",
        "  Satnum_iteration=max(Satnum_list)+1\n",
        "  time_delta=time[1]-time[0]\n",
        "  \n",
        "  \n",
        "\n",
        "  \n",
        "  for i in range(0,int(StnInstance.az_el_nlim)):\n",
        "      \n",
        "      # For Each iteration of the Station Instation Limits\n",
        "    ThisStationLimit=StnInstance.az_el_lim[i].split(\",\")\n",
        "    \n",
        "    # Covnerts Limits from Degrees to Rads\n",
        "    AZ_muth_limit=float(ThisStationLimit[0])*math.pi/180\n",
        "    EL_lim_max=float(ThisStationLimit[2])*math.pi/180\n",
        "    EL_lim_min=float(ThisStationLimit[1])*math.pi/180\n",
        "    print(AZ_muth_limit,\"\\t\",EL_lim_max,\"\\t\",EL_lim_min,\"\\t\")\n",
        "    \n",
        "    for j in range(0,len(AZ_list)):\n",
        "      \n",
        "      if AZ_list[j] > (AZ_muth_limit) and (EL_lim_max) > EL_list[j] and EL_list[j] > (EL_lim_min):\n",
        "        #compares Azimuth and Elevations to Limits\n",
        "          \n",
        "          #Satellite Available\n",
        "          \n",
        "        \n",
        "          #Compares to Previous Value\n",
        "          # If previous value is not in limits but is now either AOS or from another limit iteration** \n",
        "        if j >= (Satnum_iteration) and  Satnum_list[j] == Satnum_list[j-Satnum_iteration] and AZ_list[j-Satnum_iteration] < float(AZ_muth_limit) or float(EL_lim_max) < EL_list[j-Satnum_iteration] or EL_list[j-Satnum_iteration] < float(EL_lim_min):\n",
        "            # A Signal has been acquired\n",
        "            \n",
        "            #** Here we test to see if the AOS was caused by limit bound issues or from actual AOS\n",
        "            \n",
        "            if i > 0:\n",
        "                \n",
        "                for k in range(0,len(Times_LOS)):\n",
        "                    print (time[j]-time_delta)\n",
        "                    if time[j]-time_delta == Times_LOS[k] and Satnum[j]== SatNum_LOS[k]:\n",
        "                        append=0\n",
        "                        del Times_LOS[k]\n",
        "                        del SatNum_LOS[k]\n",
        "                        del AZ_LOS[k]\n",
        "                        del EL_LOS[k]\n",
        "                    else: \n",
        "                        append=1\n",
        "                        break\n",
        "                if append==1:\n",
        "                    AZ_AOS.append(AZ_list[j])\n",
        "                    EL_AOS.append(EL_list[j])\n",
        "                    Times_AOS.append(time[j])\n",
        "                    SatNum_AOS.append(Satnum_list[j])\n",
        "                        \n",
        "                #Then no AOS, LOS\n",
        "                \n",
        "            # This is actual AOS    \n",
        "            else:\n",
        "                AZ_AOS.append(AZ_list[j])\n",
        "                EL_AOS.append(EL_list[j])\n",
        "                Times_AOS.append(time[j])\n",
        "                SatNum_AOS.append(Satnum_list[j])\n",
        "                \n",
        "                \n",
        "                \n",
        "        AZ_avail.append(AZ_list[j])\n",
        "        EL_avail.append(EL_list[j])\n",
        "        Times_avail.append(time[j])\n",
        "        Satnum_avail.append(Satnum_list[j])\n",
        "      else:\n",
        "          # Satellite Unavailable\n",
        "          \n",
        "          #Compares previous iteration of Satellite to current Satellite Available\n",
        "          if j >= (Satnum_iteration)  and Satnum_list[j]==Satnum_list[j-(Satnum_iteration)] and AZ_list[j-(Satnum_iteration)] > float(AZ_muth_limit) and float(EL_lim_max) > EL_list[j-(Satnum_iteration)] and EL_list[j-(Satnum_iteration)] > float(EL_lim_min):\n",
        "              #If Satellite was available but is no longer then it is either LOS or out of our Limit Range\n",
        "              #\n",
        "              \n",
        "              AZ_LOS.append(AZ_list[j])\n",
        "              EL_LOS.append(EL_list[j])\n",
        "              Times_LOS.append(time[j])\n",
        "              SatNum_LOS.append(Satnum_list[j])\n",
        "\n",
        "    \n",
        "  AOS_List=[AZ_AOS,EL_AOS,Times_AOS,SatNum_AOS]\n",
        "  LOS_List=[AZ_LOS,EL_LOS,Times_LOS,SatNum_LOS]\n",
        "#Creates a list of Available Azimuth, Elevation, Times and Satnum available \n",
        "  \n",
        "  \n",
        "  return AZ_avail,EL_avail,Times_avail,Satnum_avail,AOS_List,LOS_List\n"
      ],
      "execution_count": null,
      "outputs": []
    },
    {
      "cell_type": "code",
      "metadata": {
        "id": "lOd4VO_rmEIB"
      },
      "source": [
        "class linkinput():\n",
        "    def __init__(self, LinkInputs):\n",
        "        Linkinputfile=open(LinkInputs, 'rt')\n",
        "        self.frequency=Linkinputfile.readline()\n",
        "        self.Antennaeff=Linkinputfile.readline()\n",
        "        self.AntennaDia=Linkinputfile.readline()\n",
        "        self.Bandwidth=Linkinputfile.readline()\n",
        "        self.RCVgain=Linkinputfile.readline()\n",
        "        self.RCVnoise=Linkinputfile.readline()\n",
        "        Linkinputfile.close\n",
        "        #t=4*math.pi*(46)/(3.0e8*1.575e9)\n",
        "        #signalloss=20*math.log(10,4*math.pi*(46)/(3.0e8*1.57542e9))\n",
        "        #Will print out signal loss from the given values. 46 is antenna diameter\n",
        "        #3.0e8 is speed of light and 1.57542e9 is frequency in Hz from MHz\n",
        "        #print(signalloss)\n",
        "        \n"
      ],
      "execution_count": null,
      "outputs": []
    },
    {
      "cell_type": "code",
      "metadata": {
        "id": "ptVvFny_mEII"
      },
      "source": [
        ""
      ],
      "execution_count": null,
      "outputs": []
    },
    {
      "cell_type": "markdown",
      "metadata": {
        "id": "VJ_G180lmEIN"
      },
      "source": [
        "## Calling Functions"
      ]
    },
    {
      "cell_type": "code",
      "metadata": {
        "id": "8IvgkGtCmEIO"
      },
      "source": [
        "def User_Input_parser_Call(StationLocationStr,TLEfilestr,TrackingSchedulestr,LinkInputsstr):\n",
        "    StationInstance=Station(StationLocationStr)\n",
        "    SatList=SatListPropagate(TLEfilestr)\n",
        "    Tracking=tracking(TrackingSchedulestr)\n",
        "    LinkData=linkinput(LinkInputsstr)\n",
        "    return StationInstance,SatList,Tracking,LinkData"
      ],
      "execution_count": null,
      "outputs": []
    },
    {
      "cell_type": "code",
      "metadata": {
        "id": "DZaCSXvmmEIU"
      },
      "source": [
        "def Sat_pos_velCall(StationInstance,SatList,Tracking):\n",
        "    #StationInstant, Times, and Links are class instances with their own attributes\n",
        "    # Inputs: Station Instance Calculated, Satellite List, Time \n",
        "    \n",
        "    \n",
        "    \n",
        "    \n",
        "    \n",
        "    #We are assuming that in the next version of the code we will be iterating through Start and End times \n",
        "    #With a time step. This will be our Time value\n",
        "    Time_start_dt=dt.datetime.strptime(Tracking.starttime,'%Y-%m-%d-%H:%M:%S') #This is to be used as a place holder until we iterate through the times \n",
        "    Time_end_dt=dt.datetime.strptime(Tracking.endtime,'%Y-%m-%d-%H:%M:%S')\n",
        "    \n",
        "    #Assuming that timesteps is in seconds \n",
        "    Time_iterations=(Time_end_dt-Time_start_dt).total_seconds()/float(Tracking.timestep)\n",
        "    \n",
        "    print(\"This is Time Iteration\", Time_iterations)\n",
        "    Time_dt=Time_start_dt\n",
        "    #initializing empty arrays\n",
        "    time=[]\n",
        "    Satname=[]\n",
        "    AZ_list=[]\n",
        "    EL_list=[]\n",
        "    Rate_of_AZ_list=[]\n",
        "    Rate_of_EL_list=[]\n",
        "    R_ti_list=[]\n",
        "    v_rel_ti_list=[]\n",
        "    Satnum_list=[]\n",
        "    #Satnum List helps with identifying the Satellite\n",
        "    \n",
        "    #Propagtes data for THETAN\n",
        "    Refepoch=referenceepoch_propagate(Tracking)\n",
        "        #THETAN has been edited to input time_start_dt and Time_dt\n",
        "    GMST=THETAN(Refepoch)\n",
        "\n",
        "#Iterates through satellite list first then for time \n",
        "#creates list of \n",
        "    for i in range(0,int(Time_iterations)):\n",
        "      \n",
        "      for p in range(0,int(len(SatList))):\n",
        "        \n",
        "        \n",
        "        [Mt_Mean_anomaly,Nt_anomaly_motion]=mean_anomaly_motion(Time_dt,SatList[p].refepoch,float(SatList[p].meanan),float(SatList[p].meanmo),float(SatList[p].ndot),float(SatList[p].n2dot))\n",
        "        #degrees,\n",
        "        ecc_anomaly=KeplerEqn(Mt_Mean_anomaly,SatList[p].eccn)\n",
        "        #returns in radians\n",
        "        mu=398600.4418 #km^3/s^2\n",
        "        a=(mu/(2*np.pi*float(SatList[p].meanmo)/86400)**2)**(1/3)\n",
        "        [pos_ECI,vel_ECI]=sat_ECI(SatList[p].eccn,KeplerEqn(SatList[p].meanan,SatList[p].eccn), \\\n",
        "        a,SatList[p].raan,SatList[p].argper,SatList[p].incl,Nt_anomaly_motion)\n",
        "        \n",
        "        \n",
        "        GMST_1=GMST[i]    \n",
        "        [pos_ECF,vel_ECF,vel_rel_ECF]=sat_ECF(GMST_1,pos_ECI,vel_ECI)\n",
        "        #Note: We assume that station_body_position is Tx,Ty,Tz\n",
        "        [Tx,Ty,Tz]=station_ECF(StationInstance.stnlong,StationInstance.stnlat,StationInstance.stnalt)\n",
        "    \n",
        "    \n",
        "         #Note: Station Long and Latitude must be in Radians\n",
        "        [R_ti,v_rel_ti]=range_ECF2topo([Tx,Ty,Tz],pos_ECF,vel_rel_ECF,StationInstance.stnlong,StationInstance.stnlat)\n",
        "        \n",
        "        \n",
        "        [AZ,EL,Rate_of_AZ,Rate_of_EL]=range_topo2look_angle(R_ti,v_rel_ti)\n",
        "\n",
        "\n",
        "\n",
        "        Satnum_list.append(p)\n",
        "        AZ_list.append(AZ)\n",
        "        EL_list.append(EL)\n",
        "        Rate_of_AZ_list.append(Rate_of_AZ)\n",
        "        Rate_of_EL_list.append(Rate_of_EL)\n",
        "        R_ti_list.append(R_ti)\n",
        "        v_rel_ti_list.append(v_rel_ti)\n",
        "\n",
        "        time.append(Time_dt)\n",
        "      Time_dt=Time_dt+dt.timedelta(seconds=float(Tracking.timestep))\n",
        "      #At the End change Time\n",
        "      \n",
        "    \n",
        "    \n",
        "    #Start Time is in EST and is converting inside function\n",
        "    #Note: we have made changes to the THETAN code to also input Tracking.starttime. As of this version, \n",
        "    #Time now is used for the t variable. This is to be changed in later versions when we iterate through time \n",
        "    \n",
        "    \n",
        "    \n",
        "    \n",
        "    \n",
        "    \n",
        "    \n",
        "    \n",
        "    return AZ_list,EL_list,Rate_of_AZ_list,Rate_of_EL_list,R_ti_list,v_rel_ti_list,time,Satnum_list\n"
      ],
      "execution_count": null,
      "outputs": []
    },
    {
      "cell_type": "markdown",
      "metadata": {
        "id": "L7z4P26nsBfE"
      },
      "source": [
        "**Link Calculation**\n"
      ]
    },
    {
      "cell_type": "markdown",
      "metadata": {
        "id": "HZdfXUAEsNqF"
      },
      "source": [
        "This function calculates the signal loss from the link data provided. So it will take in the link input data parsed through the user parser. Using the formula provided in the lecture notes, we calculated the signal loss. See below of a screenshot of the formula. Focusing on the loss, c is the speed of light, f is the frequency and R is the path length. This will calculate the loss in dB for every satellite that is in the field of regard."
      ]
    },
    {
      "cell_type": "code",
      "metadata": {
        "id": "AuqdaFHTmEIj"
      },
      "source": [
        "def linkcal(linkdat):\n",
        "  Linkcalcfile=open(linkdat, 'rt')\n",
        "  frequency=Linkcalcfile.readline()\n",
        "  #Antennaeff=Linkcalcfile.readline()\n",
        "  AntennaDia=Linkcalcfile.readline()\n",
        "  Linkcalcfile.close\n",
        "  #signalloss=20*math.log(10,4*math.pi*(float(AntennaDia))/(3.0e8*float(frequency)*1e6))\n",
        "  signalloss=((3.0e8)/(4*math.pi*(float(frequency)*1e6)*((R_ti))))**(2)\n",
        "  #signalloss=((3.0e8)/(4*math.pi*(float(frequency)*1e6)*(18.3)))**(2)\n",
        "  return signalloss"
      ],
      "execution_count": null,
      "outputs": []
    },
    {
      "cell_type": "code",
      "metadata": {
        "id": "ghjELI3kmOAQ"
      },
      "source": [
        "def TrackingData(freq,Antennaeff,AntennaDia,R_ti):\n",
        "    Signal_loss=[]\n",
        "    for i in range(0,len(R_ti)):\n",
        "        R=np.linalg.norm(R_ti[i])\n",
        "        #Signal_loss.append(20*math.log(10,4*math.pi*(float(R))/(3.0e8*float(freq)*1e6)))\n",
        "        Signal_loss.append((3.0e8)/(4*math.pi*(float(frequency)*1e6)*((R_ti))))**(2)\n",
        "    return Signal_loss\n",
        "\n",
        " "
      ],
      "execution_count": null,
      "outputs": []
    },
    {
      "cell_type": "markdown",
      "metadata": {
        "id": "OnOdubeJwa0F"
      },
      "source": [
        "**Visibility**\n",
        "\n",
        "The Visibility function takes in the AOS and LOS data collected from the Pointing function and essentially formats the data into a List containing [Satellite number, Satellite Name, Satellite AOS Time, Satellite LOS Time(datetime), Signal Loss(dB) ]\n"
      ]
    },
    {
      "cell_type": "code",
      "metadata": {
        "id": "pe9q2RA58N2m"
      },
      "source": [
        "def Visibility(StationInstance,AZ,EL,times,Satnum,Signal_lost):\n",
        "    #[AZ_avail,EL_avail,Times_avail,Satnum_avail]=Pointing(StationInstance,AZ,EL,Satnum)\n",
        "    AOS=Pointing(StationInstance,AZ,EL,times,Satnum,Signal_lost)[4]\n",
        "    LOS=Pointing(StationInstance,AZ,EL,times,Satnum,Signal_lost)[5]\n",
        "    Satnum_AOS=AOS[3]\n",
        "    Satnum_LOS=LOS[3]\n",
        "    Sat_Signal_Lost=AOS[4]\n",
        "    \n",
        "    Sat_AOS_Time=AOS[2]\n",
        "    Sat_LOS_Time=LOS[2]\n",
        "    AOS_LOS_list=[]\n",
        "    for i in range(0,len(Satnum_AOS)):\n",
        "        for j in range(0,len(Satnum_LOS)):\n",
        "            if Satnum_AOS[i] == Satnum_LOS[j]:\n",
        "                Templist=[Satnum_AOS[i],SatList[Satnum_AOS[i]].name,Sat_AOS_Time[i],Sat_LOS_Time[j],Sat_Signal_Lost[i]]\n",
        "                #creates a temporary list to store Sat number,Sat list name ,AOS time,LOS time and \n",
        "                AOS_LOS_list.append(Templist)\n",
        "                \n",
        "        \n",
        "    \n",
        "    \n",
        "    \n",
        "    \n",
        "    return AOS_LOS_list"
      ],
      "execution_count": null,
      "outputs": []
    },
    {
      "cell_type": "markdown",
      "metadata": {
        "id": "gwo2dSSL8S9q"
      },
      "source": [
        "## Main Function"
      ]
    },
    {
      "cell_type": "code",
      "metadata": {
        "id": "6pDIuzJ0mEIu"
      },
      "source": [
        "#Assuming That The Use has already initialized all necessary functions and classes\n",
        "# The Main Program can be deduced to this\n",
        "[StationInstance,SatList,Tracking,LinkData]=User_Input_parser_Call(r'D:\\School\\5th Year Fall Semester\\ESSE 4350\\Lab 03\\ReferenceFiles\\Station.txt',r'D:\\School\\5th Year Fall Semester\\ESSE 4350\\MiniQuiz2\\gps-ops.txt',r'D:\\School\\5th Year Fall Semester\\ESSE 4350\\MiniQuiz2\\TrackingData.txt',r'D:\\School\\5th Year Fall Semester\\ESSE 4350\\Lab 03\\ReferenceFiles\\LinkInputs.txt')\n",
        "[AZ,EL,Rate_of_AZ,Rate_of_EL,R_ti,v_rel_ti,time,Satnum]=Sat_pos_velCall(StationInstance,SatList,Tracking)\n",
        "\n",
        "[freq,Antennaeff,AntennaDia]=linkcal(r'D:\\School\\5th Year Fall Semester\\ESSE 4350\\Lab 03\\ReferenceFiles\\LinkInputs.txt')\n",
        "Signal_loss=TrackingData(freq,Antennaeff,AntennaDia,R_ti)\n",
        "[AZ_avail,EL_avail,Times_avail,Satnum_avail,AOS_List,LOS_List]=Pointing(StationInstance,AZ,EL,time,Satnum,Signal_loss)\n",
        "#Visibility creates a formatted list \n",
        "[AOS_LOS_list]=Visibility(StationInstance,AZ,EL,time,Satnum,Signal_loss)\n",
        "\n",
        "\n",
        "#Outputs AZ in Rads\n"
      ],
      "execution_count": null,
      "outputs": []
    },
    {
      "cell_type": "code",
      "metadata": {
        "id": "wkX2yTPlmEPD"
      },
      "source": [
        "    # In[]\n",
        "signalloss=linkcal(r'D:\\School\\5th Year Fall Semester\\ESSE 4350\\Lab 03\\ReferenceFiles\\LinkInputs.txt')\n",
        "\n",
        "#Note: AOS/LOS has not been created yet"
      ],
      "execution_count": null,
      "outputs": []
    },
    {
      "cell_type": "markdown",
      "metadata": {
        "id": "rYjQkVTIsoZt"
      },
      "source": [
        "#### **Results**"
      ]
    },
    {
      "cell_type": "markdown",
      "metadata": {
        "id": "Z3geHZ6ctnLF"
      },
      "source": [
        "The function sat_pos_velcall will input the stationinstance, satlist, and tracking. Using the tracking time and timestep specified in the tracking function, it will iterate the time. Running the code will input values for the empty arrays for the time, satellite number, Azimuth, elevation, rate of Az, rate of EL, topocentric range, and topocentric velocity. For the pointing function, it uses the station instance, azimuth, elevation and time to make a list of available look angles. By using the station instance limits, it will make a list of the time , azimuth and elevation in that limit. In the pointing function, it will create an array of azimuth and elevation AOS that will be empty. When running the code, each iteration will update the azimuth AOS and elevation AOS. For the LOS, it will also create a list of the available azimuth and elevation from each iteration. \n",
        "\n",
        "Doing some tests runs for the AOS/LOS list provides a list of data where it tells us which satellites are within the antennas field of regard during a given time interval.\n"
      ]
    },
    {
      "cell_type": "markdown",
      "metadata": {
        "id": "qVodlQxbtw9N"
      },
      "source": [
        "**For the AOS data**\n",
        "\n",
        "**AZ AOS**\n",
        "\n",
        "[0.6443993039618087, 1.3065213971607885, 0.8820609149866927, 1.0550772131713888, 0.5625506543524079, 1.5651529071094603, 0.3317653048302409, 1.5674485050388631, 1.5661010059394367, 0.1966352640783303, 0.6751775678668904, 0.7297122368941906, 1.5655487928600278, 1.4339290781144196]\n",
        "\n",
        "**EL AOS**\n",
        "\n",
        "[0.4279817803282175, 0.7102474890992245, 0.5732126015304646, 0.6661437471931716, 0.08830566720932495, 1.0209368022530299, 0.08820102623434249, 1.2386909223084297, 1.1600268999020429, 0.08755565312124093, 0.08859707424721387, 0.08917675250243381, 0.6574878950128256, 0.08753001755878748]\n",
        "\n",
        "**TIME AOS**\n",
        "\n",
        "[datetime.datetime(2020, 9, 28, 16, 0), datetime.datetime(2020, 9, 28, 16, 0), datetime.datetime(2020, 9, 28, 16, 0), datetime.datetime(2020, 9, 28, 16, 0), datetime.datetime(2020, 9, 28, 16, 9), datetime.datetime(2020, 9, 28, 17, 5), datetime.datetime(2020, 9, 28, 17, 16), datetime.datetime(2020, 9, 28, 17, 32), datetime.datetime(2020, 9, 28, 17, 50), datetime.datetime(2020, 9, 28, 18, 3), datetime.datetime(2020, 9, 28, 18, 5), datetime.datetime(2020, 9, 28, 19, 50), datetime.datetime(2020, 9, 28, 19, 53), datetime.datetime(2020, 9, 28, 19, 55)]\n",
        "\n",
        "**SATNUM AOS**\n",
        "\n",
        "[5, 21, 28, 29, 25, 10, 9, 23, 15, 7, 1, 17, 6, 3]\n"
      ]
    },
    {
      "cell_type": "markdown",
      "metadata": {
        "id": "I0kJw9GbubFd"
      },
      "source": [
        "**For the LOS data list**\n",
        "\n",
        "**AZ LOS**\n",
        "\n",
        "[-0.000558598619825001, -0.0017923312367464548, -0.002920747118975327, -0.0007432726125056399, -0.004123906115591683, 0.8749801084026285, 0.6318431269674142, 0.7362346919902719, -0.0006970303948109347, 0.3788777527177542, -0.00024095548723373464]\n",
        "\n",
        "**EL LOS**\n",
        "\n",
        "[1.2797246583941533, 1.2144750266447715, 0.8382021700452705, 0.2097067900475309, 1.0703283838317064, 0.08649913349137837, 0.08675435047983115, 0.08635255413029086, 0.13558980994994027, 0.08657383474055819, 0.21902695347923595]\n",
        "\n",
        "**TIME LOS**\n",
        "\n",
        "[datetime.datetime(2020, 9, 28, 16, 4), datetime.datetime(2020, 9, 28, 16, 7), datetime.datetime(2020, 9, 28, 16, 54), datetime.datetime(2020, 9, 28, 18, 37), datetime.datetime(2020, 9, 28, 18, 37), datetime.datetime(2020, 9, 28, 18, 58), datetime.datetime(2020, 9, 28, 19, 10), datetime.datetime(2020, 9, 28, 19, 11), datetime.datetime(2020, 9, 28, 19, 27), datetime.datetime(2020, 9, 28, 19, 30), datetime.datetime(2020, 9, 28, 19, 47)]\n",
        "\n",
        "**SATNUM LOS**\n",
        "\n",
        "[23, 15, 6, 8, 24, 21, 28, 29, 7, 5, 9]\n"
      ]
    },
    {
      "cell_type": "markdown",
      "metadata": {
        "id": "CPGR5beHstXc"
      },
      "source": [
        "**Debugging**\n"
      ]
    },
    {
      "cell_type": "markdown",
      "metadata": {
        "id": "8JudMW7pszDE"
      },
      "source": [
        "Since the last Lab, The modules built in P3 have been patched together and now work without any obvious error. The unknown issues now lie within output discrepancy-- which will be ironed out by the end of the Tracking section of this course.\n",
        "Multiple Methods were used to identify errors. A Method preferred and implemented by Mike was to create a cell at the bottom of the code that would create instances of low-level functions so that their values would be available in the variable explorer. From here the faults in our code were isolated. Another method used was to print out important variables into the console to view if those variables were low-level.\n",
        "The Debugging Process can be divided into **two parts**:\n",
        "#### **Initial Debugging**\n",
        "The first bug to be noticed was the Azimuth/Elevation comparison bug. Since The Azimuth and Elevation were output in Radians by the range_topo2look_angle() and have degrees in our Station File the Pointing()  function had to have a conversions of degrees to radians to compare see if the AZ and EL were within the Station File Limits.\n",
        "\n",
        "The second bug to be noticed is the Time bug. This bug was caused by a whitespace misplacement leading to the Time datetime object not containing a + deltatime(timestep) every iteration of Time_iterations in the sat_pos_velcall()  function\n"
      ]
    },
    {
      "cell_type": "markdown",
      "metadata": {
        "id": "QpCooZG78gYZ"
      },
      "source": [
        "**Comparison of Values**\n",
        "\n",
        "*Correct or Close Values*\n",
        "\n",
        "Running the Algorithm created the PRN 01 satellite at timestep 0, it has a Position and Velocity in the Perifocal Frame of [17793.41,19477,0] and [-2.86,2.6514,0].  Creating an STK simulation with same gps-ops file and transforming it to a perifocal frame results in a position of PRN 01 of [17914.14, 19850.007,0].\n",
        "\n",
        "\n",
        "The GMST Angle Calculated from the STK Simulation for the first time step is 247.623 degrees. This agrees with our Calculations. Our Algorithm spits out a GMST value of 247.4 which is relatively close.\n",
        "An issue with referen_to_dt() and doy function resulted in the time values being before the Mid_Time Values, resulting in faulty GMST angles. This was quickly remedied \n",
        "\n",
        "*Incorrect Values*\n",
        "\n",
        "Running the created Algorithm for PRN 01 satellite results in the ECI Range Coordinates of [15815.03,-21110.571,-449.696] The STK simulation resulted in [-13331.93,6829.82,22148.414]. The wrong answers outputted from the ECI function could have resulted from numerous sources. Our guesses as of now are the incorrect values for the Kepler Equation function or Mean Anomaly function.\n"
      ]
    },
    {
      "cell_type": "markdown",
      "metadata": {
        "id": "pw37rJaxs8JF"
      },
      "source": [
        "#### **Conclusion**\n"
      ]
    },
    {
      "cell_type": "markdown",
      "metadata": {
        "id": "sUUjOqCXvU1F"
      },
      "source": [
        "In this section of the lab we learned how much effort debugging takes. We learned that to create a code that runs smoothly is one thing, but to get the right result takes patience and determination. We also learned a variety of things while trying to debug the code. It is best to create a good Debugging system at the start of the coding process and debug as you go rather than spending time to revisit the code. STK is a lot more complex that we had initially assumed and we struggled to find the right way to find convert axes. Learning about field of regard during the office hours with Arvin helped us understand and determine which satellites are within the antenna’s field of regard. That is, the calculated satellite Azimuth and Elevation positions have to be inside the field of regard so that the telescope can track the satellite. It would be better if the results of Low Level Functions were provided for this Lab."
      ]
    }
  ]
}